{
  "cells": [
    {
      "attachments": {},
      "cell_type": "markdown",
      "metadata": {
        "id": "IgN1jqV_DemW"
      },
      "source": [
        "<img src=\"https://github.com/jbaudru/demo-stablediffusion-infinity/blob/master/img/logo.png?raw=true\" alt=\"P&G logo\" style=\"height: 50px; width:100px;\"/>\n",
        "\n",
        "\n",
        "# Demo: Stable Diffusion Infinity\n",
        "\n",
        "https://github.com/jbaudru/demo-stablediffusion-infinity\n",
        "\n",
        "Outpainting with Stable Diffusion on an infinite canvas"
      ]
    },
    {
      "cell_type": "code",
      "execution_count": 1,
      "metadata": {
        "id": "JvbfNNSJDTW5"
      },
      "outputs": [
        {
          "name": "stdout",
          "output_type": "stream",
          "text": [
            "/bin/bash: line 1: nvidia-smi: command not found\n",
            "\u001b[33mWARNING: Retrying (Retry(total=4, connect=None, read=None, redirect=None, status=None)) after connection broken by 'NewConnectionError('<pip._vendor.urllib3.connection.HTTPSConnection object at 0x7fb399b49a80>: Failed to establish a new connection: [Errno -3] Temporary failure in name resolution')': /simple/diffusers/\u001b[0m\u001b[33m\n",
            "\u001b[0m\u001b[33mWARNING: Retrying (Retry(total=3, connect=None, read=None, redirect=None, status=None)) after connection broken by 'NewConnectionError('<pip._vendor.urllib3.connection.HTTPSConnection object at 0x7fb399b49db0>: Failed to establish a new connection: [Errno -3] Temporary failure in name resolution')': /simple/diffusers/\u001b[0m\u001b[33m\n",
            "\u001b[0m\u001b[33mWARNING: Retrying (Retry(total=2, connect=None, read=None, redirect=None, status=None)) after connection broken by 'NewConnectionError('<pip._vendor.urllib3.connection.HTTPSConnection object at 0x7fb399b4a050>: Failed to establish a new connection: [Errno -3] Temporary failure in name resolution')': /simple/diffusers/\u001b[0m\u001b[33m\n",
            "\u001b[0m\u001b[33mWARNING: Retrying (Retry(total=1, connect=None, read=None, redirect=None, status=None)) after connection broken by 'NewConnectionError('<pip._vendor.urllib3.connection.HTTPSConnection object at 0x7fb399b4a200>: Failed to establish a new connection: [Errno -3] Temporary failure in name resolution')': /simple/diffusers/\u001b[0m\u001b[33m\n",
            "\u001b[0m\u001b[33mWARNING: Retrying (Retry(total=0, connect=None, read=None, redirect=None, status=None)) after connection broken by 'NewConnectionError('<pip._vendor.urllib3.connection.HTTPSConnection object at 0x7fb399b4a3b0>: Failed to establish a new connection: [Errno -3] Temporary failure in name resolution')': /simple/diffusers/\u001b[0m\u001b[33m\n",
            "\u001b[0m\u001b[33mWARNING: Retrying (Retry(total=4, connect=None, read=None, redirect=None, status=None)) after connection broken by 'NewConnectionError('<pip._vendor.urllib3.connection.HTTPSConnection object at 0x7fb399b93010>: Failed to establish a new connection: [Errno -3] Temporary failure in name resolution')': /simple/transformers/\u001b[0m\u001b[33m\n",
            "\u001b[0m\u001b[33mWARNING: Retrying (Retry(total=3, connect=None, read=None, redirect=None, status=None)) after connection broken by 'NewConnectionError('<pip._vendor.urllib3.connection.HTTPSConnection object at 0x7fb399b932e0>: Failed to establish a new connection: [Errno -3] Temporary failure in name resolution')': /simple/transformers/\u001b[0m\u001b[33m\n",
            "\u001b[0m\u001b[33mWARNING: Retrying (Retry(total=2, connect=None, read=None, redirect=None, status=None)) after connection broken by 'NewConnectionError('<pip._vendor.urllib3.connection.HTTPSConnection object at 0x7fb399b93490>: Failed to establish a new connection: [Errno -3] Temporary failure in name resolution')': /simple/transformers/\u001b[0m\u001b[33m\n",
            "\u001b[0m\u001b[33mWARNING: Retrying (Retry(total=1, connect=None, read=None, redirect=None, status=None)) after connection broken by 'NewConnectionError('<pip._vendor.urllib3.connection.HTTPSConnection object at 0x7fb399b93640>: Failed to establish a new connection: [Errno -3] Temporary failure in name resolution')': /simple/transformers/\u001b[0m\u001b[33m\n",
            "\u001b[0m\u001b[33mWARNING: Retrying (Retry(total=0, connect=None, read=None, redirect=None, status=None)) after connection broken by 'NewConnectionError('<pip._vendor.urllib3.connection.HTTPSConnection object at 0x7fb399b937f0>: Failed to establish a new connection: [Errno -3] Temporary failure in name resolution')': /simple/transformers/\u001b[0m\u001b[33m\n",
            "\u001b[0m\u001b[33mWARNING: Retrying (Retry(total=4, connect=None, read=None, redirect=None, status=None)) after connection broken by 'NewConnectionError('<pip._vendor.urllib3.connection.HTTPSConnection object at 0x7fb399b93ee0>: Failed to establish a new connection: [Errno -3] Temporary failure in name resolution')': /simple/ftfy/\u001b[0m\u001b[33m\n",
            "\u001b[0m\u001b[33mWARNING: Retrying (Retry(total=3, connect=None, read=None, redirect=None, status=None)) after connection broken by 'NewConnectionError('<pip._vendor.urllib3.connection.HTTPSConnection object at 0x7fb399bc0130>: Failed to establish a new connection: [Errno -3] Temporary failure in name resolution')': /simple/ftfy/\u001b[0m\u001b[33m\n",
            "\u001b[0m\u001b[33mWARNING: Retrying (Retry(total=2, connect=None, read=None, redirect=None, status=None)) after connection broken by 'NewConnectionError('<pip._vendor.urllib3.connection.HTTPSConnection object at 0x7fb399b931c0>: Failed to establish a new connection: [Errno -3] Temporary failure in name resolution')': /simple/ftfy/\u001b[0m\u001b[33m\n",
            "\u001b[0m\u001b[33mWARNING: Retrying (Retry(total=1, connect=None, read=None, redirect=None, status=None)) after connection broken by 'NewConnectionError('<pip._vendor.urllib3.connection.HTTPSConnection object at 0x7fb399b933d0>: Failed to establish a new connection: [Errno -3] Temporary failure in name resolution')': /simple/ftfy/\u001b[0m\u001b[33m\n",
            "\u001b[0m\u001b[33mWARNING: Retrying (Retry(total=0, connect=None, read=None, redirect=None, status=None)) after connection broken by 'NewConnectionError('<pip._vendor.urllib3.connection.HTTPSConnection object at 0x7fb399b937c0>: Failed to establish a new connection: [Errno -3] Temporary failure in name resolution')': /simple/ftfy/\u001b[0m\u001b[33m\n",
            "\u001b[0m\u001b[33mWARNING: Retrying (Retry(total=4, connect=None, read=None, redirect=None, status=None)) after connection broken by 'NewConnectionError('<pip._vendor.urllib3.connection.HTTPSConnection object at 0x7fb399bc03d0>: Failed to establish a new connection: [Errno -3] Temporary failure in name resolution')': /simple/accelerate/\u001b[0m\u001b[33m\n",
            "\u001b[0m\u001b[33mWARNING: Retrying (Retry(total=3, connect=None, read=None, redirect=None, status=None)) after connection broken by 'NewConnectionError('<pip._vendor.urllib3.connection.HTTPSConnection object at 0x7fb399bc06a0>: Failed to establish a new connection: [Errno -3] Temporary failure in name resolution')': /simple/accelerate/\u001b[0m\u001b[33m\n",
            "\u001b[0m\u001b[33mWARNING: Retrying (Retry(total=2, connect=None, read=None, redirect=None, status=None)) after connection broken by 'NewConnectionError('<pip._vendor.urllib3.connection.HTTPSConnection object at 0x7fb399bc0850>: Failed to establish a new connection: [Errno -3] Temporary failure in name resolution')': /simple/accelerate/\u001b[0m\u001b[33m\n",
            "\u001b[0m\u001b[33mWARNING: Retrying (Retry(total=1, connect=None, read=None, redirect=None, status=None)) after connection broken by 'NewConnectionError('<pip._vendor.urllib3.connection.HTTPSConnection object at 0x7fb399bc0a30>: Failed to establish a new connection: [Errno -3] Temporary failure in name resolution')': /simple/accelerate/\u001b[0m\u001b[33m\n",
            "\u001b[0m^C\n",
            "\u001b[33mWARNING: Retrying (Retry(total=4, connect=None, read=None, redirect=None, status=None)) after connection broken by 'NewConnectionError('<pip._vendor.urllib3.connection.HTTPSConnection object at 0x7f85a32e01c0>: Failed to establish a new connection: [Errno -3] Temporary failure in name resolution')': /simple/taichi/\u001b[0m\u001b[33m\n",
            "\u001b[0m\u001b[33mWARNING: Retrying (Retry(total=3, connect=None, read=None, redirect=None, status=None)) after connection broken by 'NewConnectionError('<pip._vendor.urllib3.connection.HTTPSConnection object at 0x7f85a32e1750>: Failed to establish a new connection: [Errno -3] Temporary failure in name resolution')': /simple/taichi/\u001b[0m\u001b[33m\n",
            "\u001b[0m\u001b[33mWARNING: Retrying (Retry(total=2, connect=None, read=None, redirect=None, status=None)) after connection broken by 'NewConnectionError('<pip._vendor.urllib3.connection.HTTPSConnection object at 0x7f85a32e1960>: Failed to establish a new connection: [Errno -3] Temporary failure in name resolution')': /simple/taichi/\u001b[0m\u001b[33m\n",
            "\u001b[0m\u001b[33mWARNING: Retrying (Retry(total=1, connect=None, read=None, redirect=None, status=None)) after connection broken by 'NewConnectionError('<pip._vendor.urllib3.connection.HTTPSConnection object at 0x7f85a32ce650>: Failed to establish a new connection: [Errno -3] Temporary failure in name resolution')': /simple/taichi/\u001b[0m\u001b[33m\n",
            "\u001b[0m\u001b[33mWARNING: Retrying (Retry(total=0, connect=None, read=None, redirect=None, status=None)) after connection broken by 'NewConnectionError('<pip._vendor.urllib3.connection.HTTPSConnection object at 0x7f85a32cf9d0>: Failed to establish a new connection: [Errno -3] Temporary failure in name resolution')': /simple/taichi/\u001b[0m\u001b[33m\n",
            "\u001b[0m\u001b[33mWARNING: Retrying (Retry(total=4, connect=None, read=None, redirect=None, status=None)) after connection broken by 'NewConnectionError('<pip._vendor.urllib3.connection.HTTPSConnection object at 0x7f85a3322260>: Failed to establish a new connection: [Errno -3] Temporary failure in name resolution')': /simple/fpie/\u001b[0m\u001b[33m\n",
            "\u001b[0m\u001b[33mWARNING: Retrying (Retry(total=3, connect=None, read=None, redirect=None, status=None)) after connection broken by 'NewConnectionError('<pip._vendor.urllib3.connection.HTTPSConnection object at 0x7f85a3322470>: Failed to establish a new connection: [Errno -3] Temporary failure in name resolution')': /simple/fpie/\u001b[0m\u001b[33m\n",
            "\u001b[0m\u001b[33mWARNING: Retrying (Retry(total=2, connect=None, read=None, redirect=None, status=None)) after connection broken by 'NewConnectionError('<pip._vendor.urllib3.connection.HTTPSConnection object at 0x7f85a3322650>: Failed to establish a new connection: [Errno -3] Temporary failure in name resolution')': /simple/fpie/\u001b[0m\u001b[33m\n",
            "\u001b[0m\u001b[33mWARNING: Retrying (Retry(total=1, connect=None, read=None, redirect=None, status=None)) after connection broken by 'NewConnectionError('<pip._vendor.urllib3.connection.HTTPSConnection object at 0x7f85a3322800>: Failed to establish a new connection: [Errno -3] Temporary failure in name resolution')': /simple/fpie/\u001b[0m\u001b[33m\n",
            "\u001b[0m\u001b[33mWARNING: Retrying (Retry(total=0, connect=None, read=None, redirect=None, status=None)) after connection broken by 'NewConnectionError('<pip._vendor.urllib3.connection.HTTPSConnection object at 0x7f85a33229b0>: Failed to establish a new connection: [Errno -3] Temporary failure in name resolution')': /simple/fpie/\u001b[0m\u001b[33m\n",
            "\u001b[0m\u001b[31mERROR: Could not find a version that satisfies the requirement taichi>=1.0 (from fpie) (from versions: none)\u001b[0m\u001b[31m\n",
            "\u001b[0m\u001b[31mERROR: No matching distribution found for taichi>=1.0\u001b[0m\u001b[31m\n",
            "\u001b[0m\u001b[33mWARNING: Retrying (Retry(total=4, connect=None, read=None, redirect=None, status=None)) after connection broken by 'NewConnectionError('<pip._vendor.urllib3.connection.HTTPSConnection object at 0x7fbc09c79600>: Failed to establish a new connection: [Errno -3] Temporary failure in name resolution')': /simple/opencv4/\u001b[0m\u001b[33m\n",
            "\u001b[0m\u001b[33mWARNING: Retrying (Retry(total=3, connect=None, read=None, redirect=None, status=None)) after connection broken by 'NewConnectionError('<pip._vendor.urllib3.connection.HTTPSConnection object at 0x7fbc09c79930>: Failed to establish a new connection: [Errno -3] Temporary failure in name resolution')': /simple/opencv4/\u001b[0m\u001b[33m\n",
            "\u001b[0m\u001b[33mWARNING: Retrying (Retry(total=2, connect=None, read=None, redirect=None, status=None)) after connection broken by 'NewConnectionError('<pip._vendor.urllib3.connection.HTTPSConnection object at 0x7fbc09c79bd0>: Failed to establish a new connection: [Errno -3] Temporary failure in name resolution')': /simple/opencv4/\u001b[0m\u001b[33m\n",
            "\u001b[0m\u001b[33mWARNING: Retrying (Retry(total=1, connect=None, read=None, redirect=None, status=None)) after connection broken by 'NewConnectionError('<pip._vendor.urllib3.connection.HTTPSConnection object at 0x7fbc09c79d80>: Failed to establish a new connection: [Errno -3] Temporary failure in name resolution')': /simple/opencv4/\u001b[0m\u001b[33m\n",
            "\u001b[0m\u001b[33mWARNING: Retrying (Retry(total=0, connect=None, read=None, redirect=None, status=None)) after connection broken by 'NewConnectionError('<pip._vendor.urllib3.connection.HTTPSConnection object at 0x7fbc09c79f30>: Failed to establish a new connection: [Errno -3] Temporary failure in name resolution')': /simple/opencv4/\u001b[0m\u001b[33m\n",
            "\u001b[0m\u001b[31mERROR: Could not find a version that satisfies the requirement opencv4 (from versions: none)\u001b[0m\u001b[31m\n",
            "\u001b[0m\u001b[31mERROR: No matching distribution found for opencv4\u001b[0m\u001b[31m\n",
            "\u001b[0m\u001b[33mWARNING: Skipping taichi as it is not installed.\u001b[0m\u001b[33m\n",
            "\u001b[0m"
          ]
        }
      ],
      "source": [
        "#@title setup libs\n",
        "!nvidia-smi -L\n",
        "!pip install -qq -U diffusers==0.11.1 transformers ftfy accelerate\n",
        "!pip install -q gradio==3.11.0\n",
        "!pip install -q fpie timm\n",
        "!pip install -q scikit-image\n",
        "!pip install -q opencv4\n",
        "!pip uninstall taichi -y"
      ]
    },
    {
      "cell_type": "code",
      "execution_count": 9,
      "metadata": {
        "id": "D1BDhQCJDilE"
      },
      "outputs": [
        {
          "name": "stdout",
          "output_type": "stream",
          "text": [
            "fatal: destination path 'demo-stablediffusion-infinity' already exists and is not an empty directory.\n",
            "[Errno 2] No such file or directory: 'stablediffusion-infinity'\n",
            "/home/julien/Documents/GitHub/demo-stablediffusion-infinity\n"
          ]
        }
      ],
      "source": [
        "#@title setup stablediffusion-infinity\n",
        "!git clone --recurse-submodules https://github.com/jbaudru/demo-stablediffusion-infinity\n",
        "%cd demo-stablediffusion-infinity\n",
        "!cp -r PyPatchMatch/csrc .\n",
        "!cp PyPatchMatch/Makefile .\n",
        "!cp PyPatchMatch/Makefile_fallback .\n",
        "!cp PyPatchMatch/travis.sh .\n",
        "!cp PyPatchMatch/patch_match.py . "
      ]
    },
    {
      "cell_type": "code",
      "execution_count": 2,
      "metadata": {
        "id": "UGotC5ckDlmO"
      },
      "outputs": [
        {
          "name": "stdout",
          "output_type": "stream",
          "text": [
            "Compiling and loading c extensions from \"/home/julien/Documents/GitHub/demo-stablediffusion-infinity/PyPatchMatch\".\n",
            "rm -rf build/obj libpatchmatch.so\n",
            "Package opencv4 was not found in the pkg-config search path.\n",
            "Perhaps you should add the directory containing `opencv4.pc'\n",
            "to the PKG_CONFIG_PATH environment variable\n",
            "No package 'opencv4' found\n",
            "mkdir: created directory 'build/obj'\n",
            "mkdir: created directory 'build/obj/csrc/'\n",
            "[dep] csrc/nnf.cpp ...\n",
            "Package opencv4 was not found in the pkg-config search path.\n",
            "Perhaps you should add the directory containing `opencv4.pc'\n",
            "to the PKG_CONFIG_PATH environment variable\n",
            "No package 'opencv4' found\n",
            "[dep] csrc/pyinterface.cpp ...\n",
            "Package opencv4 was not found in the pkg-config search path.\n",
            "Perhaps you should add the directory containing `opencv4.pc'\n",
            "to the PKG_CONFIG_PATH environment variable\n",
            "No package 'opencv4' found\n",
            "[dep] csrc/masked_image.cpp ...\n",
            "Package opencv4 was not found in the pkg-config search path.\n",
            "Perhaps you should add the directory containing `opencv4.pc'\n",
            "to the PKG_CONFIG_PATH environment variable\n",
            "No package 'opencv4' found\n",
            "[dep] csrc/inpaint.cpp ...\n",
            "Package opencv4 was not found in the pkg-config search path.\n",
            "Perhaps you should add the directory containing `opencv4.pc'\n",
            "to the PKG_CONFIG_PATH environment variable\n",
            "No package 'opencv4' found\n",
            "[CC] csrc/inpaint.cpp ...\n",
            "\u001b[01m\u001b[Kcsrc/inpaint.cpp:3:10:\u001b[m\u001b[K \u001b[01;31m\u001b[Kfatal error: \u001b[m\u001b[Kopencv2/imgcodecs.hpp: No such file or directory\n",
            "    3 | #include \u001b[01;31m\u001b[K<opencv2/imgcodecs.hpp>\u001b[m\u001b[K\n",
            "      |          \u001b[01;31m\u001b[K^~~~~~~~~~~~~~~~~~~~~~~\u001b[m\u001b[K\n",
            "compilation terminated.\n",
            "make: *** [Makefile:33: build/obj/csrc/inpaint.o] Error 1\n",
            "Compiling and loading c extensions from \"/home/julien/Documents/GitHub/demo-stablediffusion-infinity\".\n",
            "rm -rf build/obj libpatchmatch.so\n",
            "Package opencv4 was not found in the pkg-config search path.\n",
            "Perhaps you should add the directory containing `opencv4.pc'\n",
            "to the PKG_CONFIG_PATH environment variable\n",
            "No package 'opencv4' found\n",
            "mkdir: created directory 'build/obj'\n",
            "mkdir: created directory 'build/obj/csrc/'\n",
            "[dep] csrc/nnf.cpp ...\n",
            "Package opencv4 was not found in the pkg-config search path.\n",
            "Perhaps you should add the directory containing `opencv4.pc'\n",
            "to the PKG_CONFIG_PATH environment variable\n",
            "No package 'opencv4' found\n",
            "[dep] csrc/pyinterface.cpp ...\n",
            "Package opencv4 was not found in the pkg-config search path.\n",
            "Perhaps you should add the directory containing `opencv4.pc'\n",
            "to the PKG_CONFIG_PATH environment variable\n",
            "No package 'opencv4' found\n",
            "[dep] csrc/masked_image.cpp ...\n",
            "Package opencv4 was not found in the pkg-config search path.\n",
            "Perhaps you should add the directory containing `opencv4.pc'\n",
            "to the PKG_CONFIG_PATH environment variable\n",
            "No package 'opencv4' found\n",
            "[dep] csrc/inpaint.cpp ...\n",
            "Package opencv4 was not found in the pkg-config search path.\n",
            "Perhaps you should add the directory containing `opencv4.pc'\n",
            "to the PKG_CONFIG_PATH environment variable\n",
            "No package 'opencv4' found\n",
            "[CC] csrc/inpaint.cpp ...\n",
            "\u001b[01m\u001b[Kcsrc/inpaint.cpp:3:10:\u001b[m\u001b[K \u001b[01;31m\u001b[Kfatal error: \u001b[m\u001b[Kopencv2/imgcodecs.hpp: No such file or directory\n",
            "    3 | #include \u001b[01;31m\u001b[K<opencv2/imgcodecs.hpp>\u001b[m\u001b[K\n",
            "      |          \u001b[01;31m\u001b[K^~~~~~~~~~~~~~~~~~~~~~~\u001b[m\u001b[K\n",
            "compilation terminated.\n",
            "make: *** [Makefile:33: build/obj/csrc/inpaint.o] Error 1\n",
            "patch_match compiling failed, will fall back to edge_pad\n",
            "[PIE]Successfully initialize PIE grid solver with numba backend\n",
            "Running on local URL:  http://127.0.0.1:7860\n",
            "Running on public URL: https://32f331b67dfa8ca2.gradio.app\n",
            "\n",
            "This share link expires in 72 hours. For free permanent hosting and GPU upgrades (NEW!), check out Spaces: https://huggingface.co/spaces\n",
            "Using [stabilityai/stable-diffusion-2-inpainting] \n",
            "Loading stabilityai/stable-diffusion-2-inpainting\n",
            "HTTPSConnectionPool(host='huggingface.co', port=443): Max retries exceeded with url: /api/models/stabilityai/stable-diffusion-2-inpainting/revision/main (Caused by NewConnectionError('<urllib3.connection.HTTPSConnection object at 0x7fc67d10ddb0>: Failed to establish a new connection: [Errno -3] Temporary failure in name resolution'))\n",
            "^C\n",
            "Keyboard interruption in main thread... closing server.\n"
          ]
        }
      ],
      "source": [
        "#@title start stablediffusion-infinity (first setup may takes about two minutes for downloading models)\n",
        "!python3 app.py --share"
      ]
    },
    {
      "cell_type": "code",
      "execution_count": null,
      "metadata": {
        "id": "R1-E07CMFZoj"
      },
      "outputs": [],
      "source": []
    }
  ],
  "metadata": {
    "accelerator": "GPU",
    "colab": {
      "collapsed_sections": [],
      "provenance": []
    },
    "kernelspec": {
      "display_name": "Python 3",
      "language": "python",
      "name": "python3"
    },
    "language_info": {
      "codemirror_mode": {
        "name": "ipython",
        "version": 3
      },
      "file_extension": ".py",
      "mimetype": "text/x-python",
      "name": "python",
      "nbconvert_exporter": "python",
      "pygments_lexer": "ipython3",
      "version": "3.10.6"
    },
    "vscode": {
      "interpreter": {
        "hash": "916dbcbb3f70747c44a77c7bcd40155683ae19c65e1c03b4aa3499c5328201f1"
      }
    }
  },
  "nbformat": 4,
  "nbformat_minor": 0
}
